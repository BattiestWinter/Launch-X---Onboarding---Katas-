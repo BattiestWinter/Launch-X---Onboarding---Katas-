{
 "cells": [
  {
   "cell_type": "code",
   "execution_count": 2,
   "metadata": {},
   "outputs": [
    {
     "name": "stdout",
     "output_type": "stream",
     "text": [
      "55\n"
     ]
    }
   ],
   "source": [
    "# Tip de práctica 1: Intenta ejecutarlo en un notebook.\n",
    "a = 54\n",
    "b = 55\n",
    "# test expression / expresión de prueba\n",
    "if a < b:\n",
    "    # statement to be run / instrucción a ejecutar\n",
    "    print(b)"
   ]
  },
  {
   "cell_type": "code",
   "execution_count": 3,
   "metadata": {},
   "outputs": [
    {
     "name": "stdout",
     "output_type": "stream",
     "text": [
      "93\n"
     ]
    }
   ],
   "source": [
    "# Aplica el tip de práctica 1.\n",
    "a = 93\n",
    "b = 27\n",
    "if a >= b:\n",
    "    print(a)"
   ]
  },
  {
   "cell_type": "markdown",
   "metadata": {},
   "source": [
    "## Ejercicio 1"
   ]
  },
  {
   "cell_type": "code",
   "execution_count": 4,
   "metadata": {},
   "outputs": [
    {
     "name": "stdout",
     "output_type": "stream",
     "text": [
      "¡Advertencia! el asteroide se acerca a la Tierra demasiado rápido\n"
     ]
    }
   ],
   "source": [
    "vAsteroide = 49\n",
    "if vAsteroide > 25:\n",
    "    print(\"¡Advertencia! El asteroide se acerca a la Tierra demasiado rápido\")\n",
    "else:\n",
    "    print(\"El asteroide mantiene una velocidad inofensiva\")"
   ]
  },
  {
   "cell_type": "markdown",
   "metadata": {},
   "source": [
    "## Ejercicio 2"
   ]
  },
  {
   "cell_type": "code",
   "execution_count": 6,
   "metadata": {},
   "outputs": [
    {
     "name": "stdout",
     "output_type": "stream",
     "text": [
      "No se presenta ningún rayo de luz en el cielo\n"
     ]
    }
   ],
   "source": [
    "vAsteroide = 19\n",
    "if vAsteroide > 20:\n",
    "    print(\"Hay un rayo de luz en el cielo\")\n",
    "elif vAsteroide == 20:\n",
    "    print(\"Hay un rayo de luz en el cielo\")\n",
    "else:\n",
    "    print(\"No se presenta ningún rayo de luz en el cielo\")"
   ]
  },
  {
   "cell_type": "markdown",
   "metadata": {},
   "source": [
    "## Ejercicio 3"
   ]
  },
  {
   "cell_type": "code",
   "execution_count": 12,
   "metadata": {},
   "outputs": [
    {
     "name": "stdout",
     "output_type": "stream",
     "text": [
      "¡Advertencia! Hay un asteroide peligroso cercano a la Tierra\n"
     ]
    }
   ],
   "source": [
    "vAsteroide = 26\n",
    "tAsteroide = 100\n",
    "if (tAsteroide > 25 and tAsteroide < 100) or vAsteroide > 25:\n",
    "    print(\"¡Advertencia! Hay un asteroide peligroso cercano a la Tierra\")\n",
    "elif vAsteroide >= 20:\n",
    "    print(\"Hay un rayo de luz en el cielo\")\n",
    "else:\n",
    "    print(\"No se presenta ningún evento importante\")"
   ]
  }
 ],
 "metadata": {
  "interpreter": {
   "hash": "de38eb372c23bb8eefc4b6467ec562fd5dceb306e3417002afa23d3daf701817"
  },
  "kernelspec": {
   "display_name": "Python 3.10.2 64-bit",
   "language": "python",
   "name": "python3"
  },
  "language_info": {
   "codemirror_mode": {
    "name": "ipython",
    "version": 3
   },
   "file_extension": ".py",
   "mimetype": "text/x-python",
   "name": "python",
   "nbconvert_exporter": "python",
   "pygments_lexer": "ipython3",
   "version": "3.10.2"
  },
  "orig_nbformat": 4
 },
 "nbformat": 4,
 "nbformat_minor": 2
}
