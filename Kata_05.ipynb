{
 "cells": [
  {
   "cell_type": "markdown",
   "metadata": {},
   "source": [
    "## Ejercicio 1: Transformar cadenas"
   ]
  },
  {
   "cell_type": "code",
   "execution_count": 9,
   "metadata": {},
   "outputs": [
    {
     "name": "stdout",
     "output_type": "stream",
     "text": [
      "\n",
      "On average, the Moon moves 4cm away from the Earth every year\n",
      "The highest daylight temperature of the Moon is 127 C.\n",
      "\n",
      "On average, the Moon moves 4cm away from the Earth every year\n",
      "The highest daylight temperature of the Moon is 127 Celsius.\n"
     ]
    }
   ],
   "source": [
    "text = \"\"\"Interesting facts about the Moon. The Moon is Earth's only satellite. There are several interesting facts about the Moon and how it affects life here on Earth. \n",
    "On average, the Moon moves 4cm away from the Earth every year. This yearly drift is not significant enough to cause immediate effects on Earth. The highest daylight temperature of the Moon is 127 C.\"\"\"\n",
    "text2 = text.split('. ')\n",
    "\n",
    "pClave = ['average', 'temperature', 'distance']\n",
    "\n",
    "for i in text2:\n",
    "    for j in pClave:\n",
    "        if j in i:\n",
    "            print(i)\n",
    "\n",
    "for i in text2:\n",
    "    for j in pClave:\n",
    "        if j in i:\n",
    "            print(i.replace('C', 'Celsius'))"
   ]
  },
  {
   "cell_type": "markdown",
   "metadata": {},
   "source": [
    "## Ejercicio 2: Formateando cadenas"
   ]
  },
  {
   "cell_type": "code",
   "execution_count": 8,
   "metadata": {},
   "outputs": [
    {
     "name": "stdout",
     "output_type": "stream",
     "text": [
      "Gravity Facts About Moon\n",
      "----------------------------------------\n",
      "Planet name: Earth\n",
      "Gravity: 1.6199999999999999 m/s2\n",
      "\n",
      "Gravity Facts About Moon\n",
      "----------------------------------------\n",
      "Planet name: Earth\n",
      "Gravity: 1.6199999999999999 m/s2\n",
      "\n",
      "Gravity facts about Ganímedes\n",
      "----------------------------------------\n",
      "Planet name: Marte \n",
      "Gravity: 1.4300000000000002 m/s2\n",
      "\n"
     ]
    }
   ],
   "source": [
    "name = \"Moon\"\n",
    "gravity = 0.00162 # in kms\n",
    "planet = \"Earth\"\n",
    "\n",
    "titulo = f'Gravity facts about {name}\\n'\n",
    "\n",
    "plantilla = f'{\"-\"*40}\\nPlanet name: {planet}\\nGravity: {gravity*1000} m/s2\\n'\n",
    "\n",
    "resultado = f'{titulo.title()}{plantilla}'\n",
    "\n",
    "print(resultado)\n",
    "\n",
    "planet = 'Marte '\n",
    "gravity  = 0.00143\n",
    "name = 'Ganímedes'\n",
    "\n",
    "print(resultado)\n",
    "\n",
    "nPlantilla = \"\"\"Gravity facts about {nom}\n",
    "----------------------------------------\n",
    "Planet name: {plan}\n",
    "Gravity: {grav} m/s2\\n\"\"\".format(nom = name, plan = planet, grav = gravity*1000)\n",
    "\n",
    "print(nPlantilla)"
   ]
  }
 ],
 "metadata": {
  "interpreter": {
   "hash": "de38eb372c23bb8eefc4b6467ec562fd5dceb306e3417002afa23d3daf701817"
  },
  "kernelspec": {
   "display_name": "Python 3.10.2 64-bit",
   "language": "python",
   "name": "python3"
  },
  "language_info": {
   "codemirror_mode": {
    "name": "ipython",
    "version": 3
   },
   "file_extension": ".py",
   "mimetype": "text/x-python",
   "name": "python",
   "nbconvert_exporter": "python",
   "pygments_lexer": "ipython3",
   "version": "3.10.2"
  },
  "orig_nbformat": 4
 },
 "nbformat": 4,
 "nbformat_minor": 2
}
