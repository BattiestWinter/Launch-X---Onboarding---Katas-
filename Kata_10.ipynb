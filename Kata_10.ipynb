{
 "cells": [
  {
   "cell_type": "markdown",
   "metadata": {},
   "source": [
    "## Ejercicio 1: Trabajar con argumentos en funciones"
   ]
  },
  {
   "cell_type": "markdown",
   "metadata": {},
   "source": [
    "Definición de la función para realizar un informe de combustible"
   ]
  },
  {
   "cell_type": "code",
   "execution_count": 11,
   "metadata": {},
   "outputs": [],
   "source": [
    "def infComb(comb1, comb2, comb3):\n",
    "    comT = (comb1 + comb2 + comb3)/3\n",
    "    return f\"\"\"\n",
    "    The average fuel per tank is: {comT}\n",
    "    Tank1 = {comb1}\n",
    "    Tank2 = {comb2}\n",
    "    Tank3 = {comb3}\"\"\""
   ]
  },
  {
   "cell_type": "markdown",
   "metadata": {},
   "source": [
    "Llamada a la función"
   ]
  },
  {
   "cell_type": "code",
   "execution_count": 12,
   "metadata": {},
   "outputs": [
    {
     "name": "stdout",
     "output_type": "stream",
     "text": [
      "\n",
      "    The average fuel per tank is: 43.0\n",
      "    Tank1 = 45\n",
      "    Tank2 = 63\n",
      "    Tank3 = 21\n"
     ]
    }
   ],
   "source": [
    "print(infComb(45, 63, 21))"
   ]
  },
  {
   "cell_type": "markdown",
   "metadata": {},
   "source": [
    "Definición de la función promedio"
   ]
  },
  {
   "cell_type": "code",
   "execution_count": 13,
   "metadata": {},
   "outputs": [],
   "source": [
    "def average(comb1, comb2, comb3):\n",
    "    comT = (comb1 + comb2 + comb3)/3\n",
    "    return comT"
   ]
  },
  {
   "cell_type": "markdown",
   "metadata": {},
   "source": [
    "Actualización de la función infComb"
   ]
  },
  {
   "cell_type": "code",
   "execution_count": 14,
   "metadata": {},
   "outputs": [
    {
     "name": "stdout",
     "output_type": "stream",
     "text": [
      "\n",
      "    The average fuel per tank is: 30.0\n",
      "    Tank1 = 25\n",
      "    Tank2 = 30\n",
      "    Tank3 = 35\n"
     ]
    }
   ],
   "source": [
    "def infComb(comb1, comb2, comb3):\n",
    "    return f\"\"\"\n",
    "    The average fuel per tank is: {average(comb1, comb2, comb3)}\n",
    "    Tank1 = {comb1}\n",
    "    Tank2 = {comb2}\n",
    "    Tank3 = {comb3}\"\"\"\n",
    "\n",
    "print(infComb(25, 30, 35))"
   ]
  },
  {
   "cell_type": "markdown",
   "metadata": {},
   "source": [
    "## Ejercicio 2: Trabajo con argumentos de palabra clave"
   ]
  },
  {
   "cell_type": "markdown",
   "metadata": {},
   "source": [
    "Definición de la función informe"
   ]
  },
  {
   "cell_type": "code",
   "execution_count": 20,
   "metadata": {},
   "outputs": [
    {
     "name": "stdout",
     "output_type": "stream",
     "text": [
      "\n",
      "    Prelaunch hour: 13:00\n",
      "    Flight time: 24\n",
      "    Destination: moon\n",
      "    External tank: 45\n",
      "    Internal tank 35\n"
     ]
    }
   ],
   "source": [
    "def informe(hour, time, dest, exTank, inTank):\n",
    "    return f\"\"\"\n",
    "    Prelaunch hour: {hour}\n",
    "    Flight time: {time}\n",
    "    Destination: {dest}\n",
    "    External tank: {exTank}\n",
    "    Internal tank {inTank}\"\"\"\n",
    "\n",
    "print(informe('13:00', 24, 'moon', 45, 35))"
   ]
  },
  {
   "cell_type": "markdown",
   "metadata": {},
   "source": [
    "Definición la funcion informe con argumentos de variable y de palabra clave variable"
   ]
  },
  {
   "cell_type": "code",
   "execution_count": 35,
   "metadata": {},
   "outputs": [
    {
     "name": "stdout",
     "output_type": "stream",
     "text": [
      "\n",
      "    Destination: Moon\n",
      "    General time: 305\n",
      "    General fuel: 600\n",
      "    \n"
     ]
    }
   ],
   "source": [
    "def informe(dest, *minutes, **fuel_reservoirs):\n",
    "    return f\"\"\"\n",
    "    Destination: {dest}\n",
    "    General time: {sum(minutes)}\n",
    "    General fuel: {sum(fuel_reservoirs.values())}\n",
    "    \"\"\"\n",
    "\n",
    "print(informe('Moon', 45, 60, 200, externalTank = 200, internalTank = 400))"
   ]
  },
  {
   "cell_type": "markdown",
   "metadata": {},
   "source": [
    "Definición de la función informe especificando cada uno de los tanques"
   ]
  },
  {
   "cell_type": "code",
   "execution_count": 32,
   "metadata": {},
   "outputs": [
    {
     "name": "stdout",
     "output_type": "stream",
     "text": [
      "\n",
      "    Destination: Moon\n",
      "    General time: 305\n",
      "    externalTank: 200 \n",
      "    internalTank: 400 \n",
      "    \n"
     ]
    }
   ],
   "source": [
    "def informe(dest, *minutes, **fuel_reservoirs):\n",
    "    report = f\"\"\"\n",
    "    Destination: {dest}\n",
    "    General time: {sum(minutes)}\n",
    "    \"\"\"\n",
    "    for name, value in fuel_reservoirs.items():\n",
    "        report += f\"\"\"{name}: {value} \n",
    "    \"\"\"\n",
    "    return report\n",
    "\n",
    "print(informe('Moon', 45, 60, 200, externalTank = 200, internalTank = 400))"
   ]
  }
 ],
 "metadata": {
  "interpreter": {
   "hash": "de38eb372c23bb8eefc4b6467ec562fd5dceb306e3417002afa23d3daf701817"
  },
  "kernelspec": {
   "display_name": "Python 3.10.2 64-bit",
   "language": "python",
   "name": "python3"
  },
  "language_info": {
   "codemirror_mode": {
    "name": "ipython",
    "version": 3
   },
   "file_extension": ".py",
   "mimetype": "text/x-python",
   "name": "python",
   "nbconvert_exporter": "python",
   "pygments_lexer": "ipython3",
   "version": "3.10.2"
  },
  "orig_nbformat": 4
 },
 "nbformat": 4,
 "nbformat_minor": 2
}
